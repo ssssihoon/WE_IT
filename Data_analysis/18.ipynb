{
  "nbformat": 4,
  "nbformat_minor": 0,
  "metadata": {
    "colab": {
      "provenance": [],
      "authorship_tag": "ABX9TyP+M2+3FyWDsSw1imNs6Ser",
      "include_colab_link": true
    },
    "kernelspec": {
      "name": "python3",
      "display_name": "Python 3"
    },
    "language_info": {
      "name": "python"
    }
  },
  "cells": [
    {
      "cell_type": "markdown",
      "metadata": {
        "id": "view-in-github",
        "colab_type": "text"
      },
      "source": [
        "<a href=\"https://colab.research.google.com/github/ssssihoon/WE_IT/blob/main/Data_analysis/18.ipynb\" target=\"_parent\"><img src=\"https://colab.research.google.com/assets/colab-badge.svg\" alt=\"Open In Colab\"/></a>"
      ]
    },
    {
      "cell_type": "markdown",
      "source": [
        "# 데이터 분석 관련 분야\n",
        "\n",
        "## 데이터 분석가\n",
        "데이터를 이용해 현상을 해석하거나, 변수 간의 관계를 검증, 미래를 예측하는 예측모형을 만든다.\n",
        "\n",
        "통계분석, 머신러닝 등 데이터 분석 관련 지식 요구\n",
        "\n",
        "## 데이터 엔지니어링\n",
        "서비스나 장비를 운영하면서 대량의 데이터가 지속해서 발생하면 데이터를 효율적으로 저장하고 추출할 수 있도록 데이터베이스를 구축해야한다.\n",
        "\n",
        "데이터 베이스를 구축하고 관리하는 일을 하는 사람들\n",
        "\n",
        "하둡, 스팍, AWS, GCP 요구\n",
        "\n",
        "## 데이터 시각화\n",
        "동적 그래프를 웹 페이지에 구현하기도 함.\n",
        "\n",
        "D3.js, 태블로 <- 시각화 도구 요구"
      ],
      "metadata": {
        "id": "VIO1_NgXUoAC"
      }
    }
  ]
}