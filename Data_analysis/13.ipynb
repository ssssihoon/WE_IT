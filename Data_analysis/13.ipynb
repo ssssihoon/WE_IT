{
  "nbformat": 4,
  "nbformat_minor": 0,
  "metadata": {
    "colab": {
      "provenance": [],
      "mount_file_id": "14KsNdjqixIcalnloQAR7lBl2HFA-ikal",
      "authorship_tag": "ABX9TyOHfAuKr82zCUaJQiZ9od2g",
      "include_colab_link": true
    },
    "kernelspec": {
      "name": "python3",
      "display_name": "Python 3"
    },
    "language_info": {
      "name": "python"
    }
  },
  "cells": [
    {
      "cell_type": "markdown",
      "metadata": {
        "id": "view-in-github",
        "colab_type": "text"
      },
      "source": [
        "<a href=\"https://colab.research.google.com/github/ssssihoon/WE_IT/blob/main/Data_analysis/13.ipynb\" target=\"_parent\"><img src=\"https://colab.research.google.com/assets/colab-badge.svg\" alt=\"Open In Colab\"/></a>"
      ]
    },
    {
      "cell_type": "markdown",
      "source": [
        "# 마크다운으로 데이터 분석 보고서 만들기"
      ],
      "metadata": {
        "id": "vTJ7BpMQOOpy"
      }
    },
    {
      "cell_type": "markdown",
      "source": [
        "신뢰받는 데이터 분석 보고서\n",
        "\n",
        "- 똑같은 분석과정을 거쳤을 때 똑같은 분석결과가 반복되어 나오도록 **재현성**을 갖춰야 한다."
      ],
      "metadata": {
        "id": "_WRAdXKJOfP_"
      }
    },
    {
      "cell_type": "markdown",
      "source": [
        "~~ : 취소선\n",
        "\n",
        "~~취소선~~\n",
        "\n",
        "`` : 음영\n",
        "\n",
        "``음영``\n",
        "\n",
        "*. : 기울임체\n",
        "\n",
        "*기울임체*"
      ],
      "metadata": {
        "id": "LFA55rxOO3EJ"
      }
    },
    {
      "cell_type": "markdown",
      "source": [
        "# 데이터 분석 보고서 만들기\n",
        "\n",
        "## 마크다운\n",
        "\n",
        "마크다운 문법으로 코드를 작성해 [HTML](https://ko.wikipedia.org/wiki/HTML)로 변환할 수 있습니다. 마크다운을 이용하면 분석 과정과 결과를 자세하게 기술할 수 있어서 **재현 가능성**을 갖춘 *데이터 분석 보고서*를 만들 수 있습니다.\n",
        "\n",
        "### 마크다운 문법 예제\n",
        "\n",
        "코드와 코드 실행 결과물을 보고서에 함께 출력합니다."
      ],
      "metadata": {
        "id": "6ALXEY-rPkVe"
      }
    },
    {
      "cell_type": "code",
      "source": [
        "import pandas as pd\n",
        "\n",
        "df = pd.read_csv('/content/drive/MyDrive/Colab Notebooks/WE_IT_DATA_ANALYSIS/mpg.csv')\n",
        "df['drv'].value_counts()"
      ],
      "metadata": {
        "colab": {
          "base_uri": "https://localhost:8080/"
        },
        "id": "5tAieIljP-Od",
        "outputId": "b6caecbb-16df-411d-dd20-2d5b0e4cfff8"
      },
      "execution_count": null,
      "outputs": [
        {
          "output_type": "execute_result",
          "data": {
            "text/plain": [
              "f    106\n",
              "4    103\n",
              "r     25\n",
              "Name: drv, dtype: int64"
            ]
          },
          "metadata": {},
          "execution_count": 1
        }
      ]
    },
    {
      "cell_type": "code",
      "source": [
        "import seaborn as sns\n",
        "sns.countplot(data = df, x = 'drv')"
      ],
      "metadata": {
        "colab": {
          "base_uri": "https://localhost:8080/",
          "height": 467
        },
        "id": "8NA85m__QVZy",
        "outputId": "91b7ee7f-0fb5-4b2a-8cb3-6aebf4ac09f3"
      },
      "execution_count": null,
      "outputs": [
        {
          "output_type": "execute_result",
          "data": {
            "text/plain": [
              "<Axes: xlabel='drv', ylabel='count'>"
            ]
          },
          "metadata": {},
          "execution_count": 2
        },
        {
          "output_type": "display_data",
          "data": {
            "text/plain": [
              "<Figure size 640x480 with 1 Axes>"
            ],
            "image/png": "[encoded data removed]"
          },
          "metadata": {}
        }
      ]
    }
  ]
}