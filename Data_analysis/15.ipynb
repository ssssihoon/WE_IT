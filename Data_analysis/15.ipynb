{
  "nbformat": 4,
  "nbformat_minor": 0,
  "metadata": {
    "colab": {
      "provenance": [],
      "mount_file_id": "1WFjOx6tApWOAkr_dX2O_z_oj4_7nuHJg",
      "authorship_tag": "ABX9TyNVZAs83CVmLpXz64BcCiGj",
      "include_colab_link": true
    },
    "kernelspec": {
      "name": "python3",
      "display_name": "Python 3"
    },
    "language_info": {
      "name": "python"
    }
  },
  "cells": [
    {
      "cell_type": "markdown",
      "metadata": {
        "id": "view-in-github",
        "colab_type": "text"
      },
      "source": [
        "<a href=\"https://colab.research.google.com/github/ssssihoon/WE_IT/blob/main/Data_analysis/15.ipynb\" target=\"_parent\"><img src=\"https://colab.research.google.com/assets/colab-badge.svg\" alt=\"Open In Colab\"/></a>"
      ]
    },
    {
      "cell_type": "markdown",
      "source": [
        "# 머신러닝을 이용한 예측 분석"
      ],
      "metadata": {
        "id": "iTvL0U_CH30q"
      }
    },
    {
      "cell_type": "markdown",
      "source": [
        "머신러닝 모델 만들기 = 함수 만들기\n",
        "\n",
        "예측 변수와 타겟 변수\n",
        "\n",
        "- 예측변수 : 예측하는 데 활용하는 변수 or 모델에 입력하는 값\n",
        "\n",
        "- 타겟 변수 : 예측하고자 하는 변수 or 모델이 출력하는 값\n",
        "\n",
        "\n",
        "ex : 예측 변수 - 흡연여부, 음주여부, 성별, 나이\n",
        "\n",
        " 타겟 변수 - 당뇨병 발병 여부"
      ],
      "metadata": {
        "id": "2nsdbQ7iH8K8"
      }
    },
    {
      "cell_type": "markdown",
      "source": [
        "의사결정나무 모델 :\n",
        "\n",
        "예측값을 무엇으로 할지 의사결정을 해준다.\n",
        "\n",
        "모든 예측 변수를 Yes/or로 답을 할 수 있는 질문으로 만들어 결과를 도출해낸다."
      ],
      "metadata": {
        "id": "EqQp8FA4IROk"
      }
    },
    {
      "cell_type": "markdown",
      "source": [
        "1. 타겟 변수를 가장 잘 분리하는 예측 변수 선택하기\n",
        "\n",
        "2. 첫 번째 질문의 답변에 따라 데이터를 두 노드로 분할하기 (질문의 답변으로 분류된 집단을 노드라고 한다.)\n",
        "\n",
        "3. 각 노드에서 타겟 변수를 가장 잘 분리하는 예측 변수 선택하기\n",
        "\n",
        "4. 노드가 완벽하게 분리될 때까지 반복하기"
      ],
      "metadata": {
        "id": "k68I0SUDLUoc"
      }
    },
    {
      "cell_type": "markdown",
      "source": [
        "## 소득 예측 모델 만들기"
      ],
      "metadata": {
        "id": "YG_Z3ru6LuEh"
      }
    },
    {
      "cell_type": "code",
      "source": [
        "import pandas as pd"
      ],
      "metadata": {
        "id": "5o3aPngIMkDi"
      },
      "execution_count": 1,
      "outputs": []
    },
    {
      "cell_type": "code",
      "source": [
        "df = pd.read_csv(\"/content/drive/MyDrive/Colab Notebooks/WE_IT_DATA_ANALYSIS/adult.csv\")\n",
        "df.info()"
      ],
      "metadata": {
        "colab": {
          "base_uri": "https://localhost:8080/"
        },
        "id": "BPM7K_CxMnoq",
        "outputId": "49945c03-0a10-404f-fd66-b0f5b93c0258"
      },
      "execution_count": 2,
      "outputs": [
        {
          "output_type": "stream",
          "name": "stdout",
          "text": [
            "<class 'pandas.core.frame.DataFrame'>\n",
            "RangeIndex: 48842 entries, 0 to 48841\n",
            "Data columns (total 15 columns):\n",
            " #   Column          Non-Null Count  Dtype \n",
            "---  ------          --------------  ----- \n",
            " 0   age             48842 non-null  int64 \n",
            " 1   workclass       48842 non-null  object\n",
            " 2   fnlwgt          48842 non-null  int64 \n",
            " 3   education       48842 non-null  object\n",
            " 4   education_num   48842 non-null  int64 \n",
            " 5   marital_status  48842 non-null  object\n",
            " 6   occupation      48842 non-null  object\n",
            " 7   relationship    48842 non-null  object\n",
            " 8   race            48842 non-null  object\n",
            " 9   sex             48842 non-null  object\n",
            " 10  capital_gain    48842 non-null  int64 \n",
            " 11  capital_loss    48842 non-null  int64 \n",
            " 12  hours_per_week  48842 non-null  int64 \n",
            " 13  native_country  48842 non-null  object\n",
            " 14  income          48842 non-null  object\n",
            "dtypes: int64(6), object(9)\n",
            "memory usage: 5.6+ MB\n"
          ]
        }
      ]
    },
    {
      "cell_type": "markdown",
      "source": [
        "나이, 근로형태, 인구 통계 가중치, 최종학력, 교육기간, 결혼 상태, 직종, 가구주와의 관계, 인종, 성별, 자본 소득, 자본 손실, 주당 근무 시간, 출신국가, 연소득"
      ],
      "metadata": {
        "id": "iJev8bhCNITG"
      }
    },
    {
      "cell_type": "markdown",
      "source": [
        "전처리"
      ],
      "metadata": {
        "id": "6WRxG9ckNYZV"
      }
    },
    {
      "cell_type": "code",
      "source": [
        "df['income'].value_counts(normalize = True)\n",
        "# 연소득 50000달러 이하 -> 76%, ''"
      ],
      "metadata": {
        "colab": {
          "base_uri": "https://localhost:8080/"
        },
        "id": "0MlMfDtcNUqy",
        "outputId": "732c056c-eff8-47dd-fb86-52804f882ec0"
      },
      "execution_count": 3,
      "outputs": [
        {
          "output_type": "execute_result",
          "data": {
            "text/plain": [
              "<=50K    0.760718\n",
              ">50K     0.239282\n",
              "Name: income, dtype: float64"
            ]
          },
          "metadata": {},
          "execution_count": 3
        }
      ]
    },
    {
      "cell_type": "code",
      "source": [
        "import numpy as np\n",
        "df['income'] = np.where(df['income'] == '>50K', 'high', 'low')\n",
        "df['income'].value_counts(normalize = True)"
      ],
      "metadata": {
        "colab": {
          "base_uri": "https://localhost:8080/"
        },
        "id": "AIQ_GpRaNqlI",
        "outputId": "3a6affdf-9f69-4cbb-c3ce-7486ee108872"
      },
      "execution_count": 4,
      "outputs": [
        {
          "output_type": "execute_result",
          "data": {
            "text/plain": [
              "low     0.760718\n",
              "high    0.239282\n",
              "Name: income, dtype: float64"
            ]
          },
          "metadata": {},
          "execution_count": 4
        }
      ]
    },
    {
      "cell_type": "code",
      "source": [
        "# 쓰이지 않는 변수 drop\n",
        "df = df.drop(columns = 'fnlwgt') # 가중치 드롭"
      ],
      "metadata": {
        "id": "_Jvv57lmOw_a"
      },
      "execution_count": 5,
      "outputs": []
    },
    {
      "cell_type": "code",
      "source": [
        "# 문자 타입 변수를 숫자 타입으로 바꾸기\n",
        "df_tmp = df[['sex']]\n",
        "df_tmp.info()"
      ],
      "metadata": {
        "colab": {
          "base_uri": "https://localhost:8080/"
        },
        "id": "-6YEKEN0O5q0",
        "outputId": "1b795282-1536-4457-b64d-267b6ffc11e2"
      },
      "execution_count": 6,
      "outputs": [
        {
          "output_type": "stream",
          "name": "stdout",
          "text": [
            "<class 'pandas.core.frame.DataFrame'>\n",
            "RangeIndex: 48842 entries, 0 to 48841\n",
            "Data columns (total 1 columns):\n",
            " #   Column  Non-Null Count  Dtype \n",
            "---  ------  --------------  ----- \n",
            " 0   sex     48842 non-null  object\n",
            "dtypes: object(1)\n",
            "memory usage: 381.7+ KB\n"
          ]
        }
      ]
    },
    {
      "cell_type": "code",
      "source": [
        "# df_tmp의 문자 타입 변수에 원핫 인코딩 적용\n",
        "# 원핫 인코딩 : 값을 1과 0으로 바꾸는 방법\n",
        "df_tmp = pd.get_dummies(df_tmp)\n",
        "df_tmp.info()"
      ],
      "metadata": {
        "colab": {
          "base_uri": "https://localhost:8080/"
        },
        "id": "PqLkQ1yNPJ8A",
        "outputId": "3177d3c0-e13e-43bf-b335-ea623813d36f"
      },
      "execution_count": 7,
      "outputs": [
        {
          "output_type": "stream",
          "name": "stdout",
          "text": [
            "<class 'pandas.core.frame.DataFrame'>\n",
            "RangeIndex: 48842 entries, 0 to 48841\n",
            "Data columns (total 2 columns):\n",
            " #   Column      Non-Null Count  Dtype\n",
            "---  ------      --------------  -----\n",
            " 0   sex_Female  48842 non-null  uint8\n",
            " 1   sex_Male    48842 non-null  uint8\n",
            "dtypes: uint8(2)\n",
            "memory usage: 95.5 KB\n"
          ]
        }
      ]
    },
    {
      "cell_type": "code",
      "source": [
        "df_tmp[['sex_Female', 'sex_Male']].head() # True 라면 1, False면 0"
      ],
      "metadata": {
        "colab": {
          "base_uri": "https://localhost:8080/",
          "height": 206
        },
        "id": "vNcyewNSPh41",
        "outputId": "ddd41151-644e-4d45-af59-13e597e0f9bb"
      },
      "execution_count": 8,
      "outputs": [
        {
          "output_type": "execute_result",
          "data": {
            "text/plain": [
              "   sex_Female  sex_Male\n",
              "0           0         1\n",
              "1           0         1\n",
              "2           0         1\n",
              "3           0         1\n",
              "4           1         0"
            ],
            "text/html": [
              "\n",
              "  <div id=\"df-0d398a7a-9dae-48cd-ad89-4cd1f71e6de6\" class=\"colab-df-container\">\n",
              "    <div>\n",
              "<style scoped>\n",
              "    .dataframe tbody tr th:only-of-type {\n",
              "        vertical-align: middle;\n",
              "    }\n",
              "\n",
              "    .dataframe tbody tr th {\n",
              "        vertical-align: top;\n",
              "    }\n",
              "\n",
              "    .dataframe thead th {\n",
              "        text-align: right;\n",
              "    }\n",
              "</style>\n",
              "<table border=\"1\" class=\"dataframe\">\n",
              "  <thead>\n",
              "    <tr style=\"text-align: right;\">\n",
              "      <th></th>\n",
              "      <th>sex_Female</th>\n",
              "      <th>sex_Male</th>\n",
              "    </tr>\n",
              "  </thead>\n",
              "  <tbody>\n",
              "    <tr>\n",
              "      <th>0</th>\n",
              "      <td>0</td>\n",
              "      <td>1</td>\n",
              "    </tr>\n",
              "    <tr>\n",
              "      <th>1</th>\n",
              "      <td>0</td>\n",
              "      <td>1</td>\n",
              "    </tr>\n",
              "    <tr>\n",
              "      <th>2</th>\n",
              "      <td>0</td>\n",
              "      <td>1</td>\n",
              "    </tr>\n",
              "    <tr>\n",
              "      <th>3</th>\n",
              "      <td>0</td>\n",
              "      <td>1</td>\n",
              "    </tr>\n",
              "    <tr>\n",
              "      <th>4</th>\n",
              "      <td>1</td>\n",
              "      <td>0</td>\n",
              "    </tr>\n",
              "  </tbody>\n",
              "</table>\n",
              "</div>\n",
              "    <div class=\"colab-df-buttons\">\n",
              "\n",
              "  <div class=\"colab-df-container\">\n",
              "    <button class=\"colab-df-convert\" onclick=\"convertToInteractive('df-0d398a7a-9dae-48cd-ad89-4cd1f71e6de6')\"\n",
              "            title=\"Convert this dataframe to an interactive table.\"\n",
              "            style=\"display:none;\">\n",
              "\n",
              "  <svg xmlns=\"http://www.w3.org/2000/svg\" height=\"24px\" viewBox=\"0 -960 960 960\">\n",
              "    <path d=\"M120-120v-720h720v720H120Zm60-500h600v-160H180v160Zm220 220h160v-160H400v160Zm0 220h160v-160H400v160ZM180-400h160v-160H180v160Zm440 0h160v-160H620v160ZM180-180h160v-160H180v160Zm440 0h160v-160H620v160Z\"/>\n",
              "  </svg>\n",
              "    </button>\n",
              "\n",
              "  <style>\n",
              "    .colab-df-container {\n",
              "      display:flex;\n",
              "      gap: 12px;\n",
              "    }\n",
              "\n",
              "    .colab-df-convert {\n",
              "      background-color: #E8F0FE;\n",
              "      border: none;\n",
              "      border-radius: 50%;\n",
              "      cursor: pointer;\n",
              "      display: none;\n",
              "      fill: #1967D2;\n",
              "      height: 32px;\n",
              "      padding: 0 0 0 0;\n",
              "      width: 32px;\n",
              "    }\n",
              "\n",
              "    .colab-df-convert:hover {\n",
              "      background-color: #E2EBFA;\n",
              "      box-shadow: 0px 1px 2px rgba(60, 64, 67, 0.3), 0px 1px 3px 1px rgba(60, 64, 67, 0.15);\n",
              "      fill: #174EA6;\n",
              "    }\n",
              "\n",
              "    .colab-df-buttons div {\n",
              "      margin-bottom: 4px;\n",
              "    }\n",
              "\n",
              "    [theme=dark] .colab-df-convert {\n",
              "      background-color: #3B4455;\n",
              "      fill: #D2E3FC;\n",
              "    }\n",
              "\n",
              "    [theme=dark] .colab-df-convert:hover {\n",
              "      background-color: #434B5C;\n",
              "      box-shadow: 0px 1px 3px 1px rgba(0, 0, 0, 0.15);\n",
              "      filter: drop-shadow(0px 1px 2px rgba(0, 0, 0, 0.3));\n",
              "      fill: #FFFFFF;\n",
              "    }\n",
              "  </style>\n",
              "\n",
              "    <script>\n",
              "      const buttonEl =\n",
              "        document.querySelector('#df-0d398a7a-9dae-48cd-ad89-4cd1f71e6de6 button.colab-df-convert');\n",
              "      buttonEl.style.display =\n",
              "        google.colab.kernel.accessAllowed ? 'block' : 'none';\n",
              "\n",
              "      async function convertToInteractive(key) {\n",
              "        const element = document.querySelector('#df-0d398a7a-9dae-48cd-ad89-4cd1f71e6de6');\n",
              "        const dataTable =\n",
              "          await google.colab.kernel.invokeFunction('convertToInteractive',\n",
              "                                                    [key], {});\n",
              "        if (!dataTable) return;\n",
              "\n",
              "        const docLinkHtml = 'Like what you see? Visit the ' +\n",
              "          '<a target=\"_blank\" href=https://colab.research.google.com/notebooks/data_table.ipynb>data table notebook</a>'\n",
              "          + ' to learn more about interactive tables.';\n",
              "        element.innerHTML = '';\n",
              "        dataTable['output_type'] = 'display_data';\n",
              "        await google.colab.output.renderOutput(dataTable, element);\n",
              "        const docLink = document.createElement('div');\n",
              "        docLink.innerHTML = docLinkHtml;\n",
              "        element.appendChild(docLink);\n",
              "      }\n",
              "    </script>\n",
              "  </div>\n",
              "\n",
              "\n",
              "<div id=\"df-89c79bdd-3b69-4fa0-b449-0abecd7c0993\">\n",
              "  <button class=\"colab-df-quickchart\" onclick=\"quickchart('df-89c79bdd-3b69-4fa0-b449-0abecd7c0993')\"\n",
              "            title=\"Suggest charts.\"\n",
              "            style=\"display:none;\">\n",
              "\n",
              "<svg xmlns=\"http://www.w3.org/2000/svg\" height=\"24px\"viewBox=\"0 0 24 24\"\n",
              "     width=\"24px\">\n",
              "    <g>\n",
              "        <path d=\"M19 3H5c-1.1 0-2 .9-2 2v14c0 1.1.9 2 2 2h14c1.1 0 2-.9 2-2V5c0-1.1-.9-2-2-2zM9 17H7v-7h2v7zm4 0h-2V7h2v10zm4 0h-2v-4h2v4z\"/>\n",
              "    </g>\n",
              "</svg>\n",
              "  </button>\n",
              "\n",
              "<style>\n",
              "  .colab-df-quickchart {\n",
              "      --bg-color: #E8F0FE;\n",
              "      --fill-color: #1967D2;\n",
              "      --hover-bg-color: #E2EBFA;\n",
              "      --hover-fill-color: #174EA6;\n",
              "      --disabled-fill-color: #AAA;\n",
              "      --disabled-bg-color: #DDD;\n",
              "  }\n",
              "\n",
              "  [theme=dark] .colab-df-quickchart {\n",
              "      --bg-color: #3B4455;\n",
              "      --fill-color: #D2E3FC;\n",
              "      --hover-bg-color: #434B5C;\n",
              "      --hover-fill-color: #FFFFFF;\n",
              "      --disabled-bg-color: #3B4455;\n",
              "      --disabled-fill-color: #666;\n",
              "  }\n",
              "\n",
              "  .colab-df-quickchart {\n",
              "    background-color: var(--bg-color);\n",
              "    border: none;\n",
              "    border-radius: 50%;\n",
              "    cursor: pointer;\n",
              "    display: none;\n",
              "    fill: var(--fill-color);\n",
              "    height: 32px;\n",
              "    padding: 0;\n",
              "    width: 32px;\n",
              "  }\n",
              "\n",
              "  .colab-df-quickchart:hover {\n",
              "    background-color: var(--hover-bg-color);\n",
              "    box-shadow: 0 1px 2px rgba(60, 64, 67, 0.3), 0 1px 3px 1px rgba(60, 64, 67, 0.15);\n",
              "    fill: var(--button-hover-fill-color);\n",
              "  }\n",
              "\n",
              "  .colab-df-quickchart-complete:disabled,\n",
              "  .colab-df-quickchart-complete:disabled:hover {\n",
              "    background-color: var(--disabled-bg-color);\n",
              "    fill: var(--disabled-fill-color);\n",
              "    box-shadow: none;\n",
              "  }\n",
              "\n",
              "  .colab-df-spinner {\n",
              "    border: 2px solid var(--fill-color);\n",
              "    border-color: transparent;\n",
              "    border-bottom-color: var(--fill-color);\n",
              "    animation:\n",
              "      spin 1s steps(1) infinite;\n",
              "  }\n",
              "\n",
              "  @keyframes spin {\n",
              "    0% {\n",
              "      border-color: transparent;\n",
              "      border-bottom-color: var(--fill-color);\n",
              "      border-left-color: var(--fill-color);\n",
              "    }\n",
              "    20% {\n",
              "      border-color: transparent;\n",
              "      border-left-color: var(--fill-color);\n",
              "      border-top-color: var(--fill-color);\n",
              "    }\n",
              "    30% {\n",
              "      border-color: transparent;\n",
              "      border-left-color: var(--fill-color);\n",
              "      border-top-color: var(--fill-color);\n",
              "      border-right-color: var(--fill-color);\n",
              "    }\n",
              "    40% {\n",
              "      border-color: transparent;\n",
              "      border-right-color: var(--fill-color);\n",
              "      border-top-color: var(--fill-color);\n",
              "    }\n",
              "    60% {\n",
              "      border-color: transparent;\n",
              "      border-right-color: var(--fill-color);\n",
              "    }\n",
              "    80% {\n",
              "      border-color: transparent;\n",
              "      border-right-color: var(--fill-color);\n",
              "      border-bottom-color: var(--fill-color);\n",
              "    }\n",
              "    90% {\n",
              "      border-color: transparent;\n",
              "      border-bottom-color: var(--fill-color);\n",
              "    }\n",
              "  }\n",
              "</style>\n",
              "\n",
              "  <script>\n",
              "    async function quickchart(key) {\n",
              "      const quickchartButtonEl =\n",
              "        document.querySelector('#' + key + ' button');\n",
              "      quickchartButtonEl.disabled = true;  // To prevent multiple clicks.\n",
              "      quickchartButtonEl.classList.add('colab-df-spinner');\n",
              "      try {\n",
              "        const charts = await google.colab.kernel.invokeFunction(\n",
              "            'suggestCharts', [key], {});\n",
              "      } catch (error) {\n",
              "        console.error('Error during call to suggestCharts:', error);\n",
              "      }\n",
              "      quickchartButtonEl.classList.remove('colab-df-spinner');\n",
              "      quickchartButtonEl.classList.add('colab-df-quickchart-complete');\n",
              "    }\n",
              "    (() => {\n",
              "      let quickchartButtonEl =\n",
              "        document.querySelector('#df-89c79bdd-3b69-4fa0-b449-0abecd7c0993 button');\n",
              "      quickchartButtonEl.style.display =\n",
              "        google.colab.kernel.accessAllowed ? 'block' : 'none';\n",
              "    })();\n",
              "  </script>\n",
              "</div>\n",
              "    </div>\n",
              "  </div>\n"
            ]
          },
          "metadata": {},
          "execution_count": 8
        }
      ]
    },
    {
      "cell_type": "markdown",
      "source": [
        "원핫 인코딩을 df에 적용해 income을 원래 대로 유지한 채 모든 문자 타입 변수를 원핫 인코딩"
      ],
      "metadata": {
        "id": "a2dkFQtGQfTp"
      }
    },
    {
      "cell_type": "code",
      "source": [
        "target = df['income'] # target이라는 변수에 income 컬럼 저장\n",
        "\n",
        "df = df.drop(columns = 'income') # income을 df에서 제거\n",
        "df = pd.get_dummies(df) # income을 제외한 모든 변수들 원핫 인코딩화\n",
        "\n",
        "df['income'] = target # df에 target을 삽입\n",
        "df.info()"
      ],
      "metadata": {
        "colab": {
          "base_uri": "https://localhost:8080/"
        },
        "id": "AJd-1s0xPzr5",
        "outputId": "364568bb-5392-41f3-f217-c446cc788601"
      },
      "execution_count": 9,
      "outputs": [
        {
          "output_type": "stream",
          "name": "stdout",
          "text": [
            "<class 'pandas.core.frame.DataFrame'>\n",
            "RangeIndex: 48842 entries, 0 to 48841\n",
            "Columns: 108 entries, age to income\n",
            "dtypes: int64(5), object(1), uint8(102)\n",
            "memory usage: 7.0+ MB\n"
          ]
        }
      ]
    },
    {
      "cell_type": "code",
      "source": [
        "df.info(max_cols = np.inf) # 원래 info()의 결과로는 변수가 100개 이하일 때만 변수 정보를 출력하도록 설정 되어있는데,\n",
        "\n",
        "# max_cols = np.inf 를 적어주면 모든 변수의 정보를 출력한다."
      ],
      "metadata": {
        "colab": {
          "base_uri": "https://localhost:8080/"
        },
        "id": "hZHrWzx2cRX6",
        "outputId": "db3e4ae1-2df0-46b5-97be-58e6896700af"
      },
      "execution_count": 10,
      "outputs": [
        {
          "output_type": "stream",
          "name": "stdout",
          "text": [
            "<class 'pandas.core.frame.DataFrame'>\n",
            "RangeIndex: 48842 entries, 0 to 48841\n",
            "Data columns (total 108 columns):\n",
            " #    Column                                     Non-Null Count  Dtype \n",
            "---   ------                                     --------------  ----- \n",
            " 0    age                                        48842 non-null  int64 \n",
            " 1    education_num                              48842 non-null  int64 \n",
            " 2    capital_gain                               48842 non-null  int64 \n",
            " 3    capital_loss                               48842 non-null  int64 \n",
            " 4    hours_per_week                             48842 non-null  int64 \n",
            " 5    workclass_?                                48842 non-null  uint8 \n",
            " 6    workclass_Federal-gov                      48842 non-null  uint8 \n",
            " 7    workclass_Local-gov                        48842 non-null  uint8 \n",
            " 8    workclass_Never-worked                     48842 non-null  uint8 \n",
            " 9    workclass_Private                          48842 non-null  uint8 \n",
            " 10   workclass_Self-emp-inc                     48842 non-null  uint8 \n",
            " 11   workclass_Self-emp-not-inc                 48842 non-null  uint8 \n",
            " 12   workclass_State-gov                        48842 non-null  uint8 \n",
            " 13   workclass_Without-pay                      48842 non-null  uint8 \n",
            " 14   education_10th                             48842 non-null  uint8 \n",
            " 15   education_11th                             48842 non-null  uint8 \n",
            " 16   education_12th                             48842 non-null  uint8 \n",
            " 17   education_1st-4th                          48842 non-null  uint8 \n",
            " 18   education_5th-6th                          48842 non-null  uint8 \n",
            " 19   education_7th-8th                          48842 non-null  uint8 \n",
            " 20   education_9th                              48842 non-null  uint8 \n",
            " 21   education_Assoc-acdm                       48842 non-null  uint8 \n",
            " 22   education_Assoc-voc                        48842 non-null  uint8 \n",
            " 23   education_Bachelors                        48842 non-null  uint8 \n",
            " 24   education_Doctorate                        48842 non-null  uint8 \n",
            " 25   education_HS-grad                          48842 non-null  uint8 \n",
            " 26   education_Masters                          48842 non-null  uint8 \n",
            " 27   education_Preschool                        48842 non-null  uint8 \n",
            " 28   education_Prof-school                      48842 non-null  uint8 \n",
            " 29   education_Some-college                     48842 non-null  uint8 \n",
            " 30   marital_status_Divorced                    48842 non-null  uint8 \n",
            " 31   marital_status_Married-AF-spouse           48842 non-null  uint8 \n",
            " 32   marital_status_Married-civ-spouse          48842 non-null  uint8 \n",
            " 33   marital_status_Married-spouse-absent       48842 non-null  uint8 \n",
            " 34   marital_status_Never-married               48842 non-null  uint8 \n",
            " 35   marital_status_Separated                   48842 non-null  uint8 \n",
            " 36   marital_status_Widowed                     48842 non-null  uint8 \n",
            " 37   occupation_?                               48842 non-null  uint8 \n",
            " 38   occupation_Adm-clerical                    48842 non-null  uint8 \n",
            " 39   occupation_Armed-Forces                    48842 non-null  uint8 \n",
            " 40   occupation_Craft-repair                    48842 non-null  uint8 \n",
            " 41   occupation_Exec-managerial                 48842 non-null  uint8 \n",
            " 42   occupation_Farming-fishing                 48842 non-null  uint8 \n",
            " 43   occupation_Handlers-cleaners               48842 non-null  uint8 \n",
            " 44   occupation_Machine-op-inspct               48842 non-null  uint8 \n",
            " 45   occupation_Other-service                   48842 non-null  uint8 \n",
            " 46   occupation_Priv-house-serv                 48842 non-null  uint8 \n",
            " 47   occupation_Prof-specialty                  48842 non-null  uint8 \n",
            " 48   occupation_Protective-serv                 48842 non-null  uint8 \n",
            " 49   occupation_Sales                           48842 non-null  uint8 \n",
            " 50   occupation_Tech-support                    48842 non-null  uint8 \n",
            " 51   occupation_Transport-moving                48842 non-null  uint8 \n",
            " 52   relationship_Husband                       48842 non-null  uint8 \n",
            " 53   relationship_Not-in-family                 48842 non-null  uint8 \n",
            " 54   relationship_Other-relative                48842 non-null  uint8 \n",
            " 55   relationship_Own-child                     48842 non-null  uint8 \n",
            " 56   relationship_Unmarried                     48842 non-null  uint8 \n",
            " 57   relationship_Wife                          48842 non-null  uint8 \n",
            " 58   race_Amer-Indian-Eskimo                    48842 non-null  uint8 \n",
            " 59   race_Asian-Pac-Islander                    48842 non-null  uint8 \n",
            " 60   race_Black                                 48842 non-null  uint8 \n",
            " 61   race_Other                                 48842 non-null  uint8 \n",
            " 62   race_White                                 48842 non-null  uint8 \n",
            " 63   sex_Female                                 48842 non-null  uint8 \n",
            " 64   sex_Male                                   48842 non-null  uint8 \n",
            " 65   native_country_?                           48842 non-null  uint8 \n",
            " 66   native_country_Cambodia                    48842 non-null  uint8 \n",
            " 67   native_country_Canada                      48842 non-null  uint8 \n",
            " 68   native_country_China                       48842 non-null  uint8 \n",
            " 69   native_country_Columbia                    48842 non-null  uint8 \n",
            " 70   native_country_Cuba                        48842 non-null  uint8 \n",
            " 71   native_country_Dominican-Republic          48842 non-null  uint8 \n",
            " 72   native_country_Ecuador                     48842 non-null  uint8 \n",
            " 73   native_country_El-Salvador                 48842 non-null  uint8 \n",
            " 74   native_country_England                     48842 non-null  uint8 \n",
            " 75   native_country_France                      48842 non-null  uint8 \n",
            " 76   native_country_Germany                     48842 non-null  uint8 \n",
            " 77   native_country_Greece                      48842 non-null  uint8 \n",
            " 78   native_country_Guatemala                   48842 non-null  uint8 \n",
            " 79   native_country_Haiti                       48842 non-null  uint8 \n",
            " 80   native_country_Holand-Netherlands          48842 non-null  uint8 \n",
            " 81   native_country_Honduras                    48842 non-null  uint8 \n",
            " 82   native_country_Hong                        48842 non-null  uint8 \n",
            " 83   native_country_Hungary                     48842 non-null  uint8 \n",
            " 84   native_country_India                       48842 non-null  uint8 \n",
            " 85   native_country_Iran                        48842 non-null  uint8 \n",
            " 86   native_country_Ireland                     48842 non-null  uint8 \n",
            " 87   native_country_Italy                       48842 non-null  uint8 \n",
            " 88   native_country_Jamaica                     48842 non-null  uint8 \n",
            " 89   native_country_Japan                       48842 non-null  uint8 \n",
            " 90   native_country_Laos                        48842 non-null  uint8 \n",
            " 91   native_country_Mexico                      48842 non-null  uint8 \n",
            " 92   native_country_Nicaragua                   48842 non-null  uint8 \n",
            " 93   native_country_Outlying-US(Guam-USVI-etc)  48842 non-null  uint8 \n",
            " 94   native_country_Peru                        48842 non-null  uint8 \n",
            " 95   native_country_Philippines                 48842 non-null  uint8 \n",
            " 96   native_country_Poland                      48842 non-null  uint8 \n",
            " 97   native_country_Portugal                    48842 non-null  uint8 \n",
            " 98   native_country_Puerto-Rico                 48842 non-null  uint8 \n",
            " 99   native_country_Scotland                    48842 non-null  uint8 \n",
            " 100  native_country_South                       48842 non-null  uint8 \n",
            " 101  native_country_Taiwan                      48842 non-null  uint8 \n",
            " 102  native_country_Thailand                    48842 non-null  uint8 \n",
            " 103  native_country_Trinadad&Tobago             48842 non-null  uint8 \n",
            " 104  native_country_United-States               48842 non-null  uint8 \n",
            " 105  native_country_Vietnam                     48842 non-null  uint8 \n",
            " 106  native_country_Yugoslavia                  48842 non-null  uint8 \n",
            " 107  income                                     48842 non-null  object\n",
            "dtypes: int64(5), object(1), uint8(102)\n",
            "memory usage: 7.0+ MB\n"
          ]
        }
      ]
    },
    {
      "cell_type": "markdown",
      "source": [
        "데이터 분할하기\n",
        "\n",
        "모델을 만들 때는 모든 데이터를 사용하는 게 아니라 일부만 무작위로 추출해 사용해야 한다. -> 모든 데이터를 사용하면 성능 평가 점수를 신뢰 못함"
      ],
      "metadata": {
        "id": "FwFM_mYUcmrx"
      }
    },
    {
      "cell_type": "markdown",
      "source": [
        "Cross Validation(크로스 밸리데이션, 교차 검증)"
      ],
      "metadata": {
        "id": "LUDVRkNLc4fw"
      }
    },
    {
      "cell_type": "markdown",
      "source": [
        "Data = Training Data + Test Data 로 나누어야 함.(트레이닝 세트, 테스트 세트)"
      ],
      "metadata": {
        "id": "iU2pYPCscw3n"
      }
    },
    {
      "cell_type": "markdown",
      "source": [
        "adult 데이터 분할하기\n",
        "\n",
        "sklearn.model_selection의 train_test_split()을 이용\n",
        "\n",
        "tset_size : 테스트 세트의 비율\n",
        "\n",
        "stratify : 범주별 비율을 통일할 변수\n",
        "\n",
        "random_state : 난수 초깃값\n"
      ],
      "metadata": {
        "id": "QOtEFSrfdN9H"
      }
    },
    {
      "cell_type": "code",
      "source": [
        "from sklearn.model_selection import train_test_split\n",
        "df_train, df_test = train_test_split(df,\n",
        "                                     test_size = 0.3, # 테스트 세트 비율\n",
        "                                     stratify = df['income'], # 타겟 변수 비율 유지\n",
        "                                     random_state = 1234)"
      ],
      "metadata": {
        "id": "Y_hCEA_HcjXR"
      },
      "execution_count": 11,
      "outputs": []
    },
    {
      "cell_type": "markdown",
      "source": [
        "타겟 변수의 행과 열 비교"
      ],
      "metadata": {
        "id": "66rbYSMceI8X"
      }
    },
    {
      "cell_type": "code",
      "source": [
        "# train\n",
        "df_train.shape"
      ],
      "metadata": {
        "colab": {
          "base_uri": "https://localhost:8080/"
        },
        "id": "4hWBfdewd9sC",
        "outputId": "e3c49a9c-fceb-4333-da46-8cdc76b8f119"
      },
      "execution_count": 12,
      "outputs": [
        {
          "output_type": "execute_result",
          "data": {
            "text/plain": [
              "(34189, 108)"
            ]
          },
          "metadata": {},
          "execution_count": 12
        }
      ]
    },
    {
      "cell_type": "code",
      "source": [
        "# test\n",
        "df_test.shape"
      ],
      "metadata": {
        "colab": {
          "base_uri": "https://localhost:8080/"
        },
        "id": "kFlQPukSeCBG",
        "outputId": "4e362af2-04f2-4387-e239-703f3b7fd973"
      },
      "execution_count": 13,
      "outputs": [
        {
          "output_type": "execute_result",
          "data": {
            "text/plain": [
              "(14653, 108)"
            ]
          },
          "metadata": {},
          "execution_count": 13
        }
      ]
    },
    {
      "cell_type": "markdown",
      "source": [
        "타겟 변수의 범주별 비율 비교"
      ],
      "metadata": {
        "id": "3FMaeNpdeLgu"
      }
    },
    {
      "cell_type": "code",
      "source": [
        "# train\n",
        "df_train['income'].value_counts(normalize = True)"
      ],
      "metadata": {
        "colab": {
          "base_uri": "https://localhost:8080/"
        },
        "id": "FJipLOqceSXb",
        "outputId": "0237d643-c5ce-4ce3-e199-7bb01a58abc6"
      },
      "execution_count": 14,
      "outputs": [
        {
          "output_type": "execute_result",
          "data": {
            "text/plain": [
              "low     0.760713\n",
              "high    0.239287\n",
              "Name: income, dtype: float64"
            ]
          },
          "metadata": {},
          "execution_count": 14
        }
      ]
    },
    {
      "cell_type": "code",
      "source": [
        "# test\n",
        "df_test['income'].value_counts(normalize = True)"
      ],
      "metadata": {
        "colab": {
          "base_uri": "https://localhost:8080/"
        },
        "id": "2aDGBDTyeXB_",
        "outputId": "b03ebc91-8f4a-4b02-dcf3-85c039bb356f"
      },
      "execution_count": 15,
      "outputs": [
        {
          "output_type": "execute_result",
          "data": {
            "text/plain": [
              "low     0.760732\n",
              "high    0.239268\n",
              "Name: income, dtype: float64"
            ]
          },
          "metadata": {},
          "execution_count": 15
        }
      ]
    },
    {
      "cell_type": "markdown",
      "source": [
        "의사결정나무 모델"
      ],
      "metadata": {
        "id": "J15QuOEjed59"
      }
    },
    {
      "cell_type": "markdown",
      "source": [
        "df_train을 사용하고 df_test는 마지막에 모델을 평가할 때 사용"
      ],
      "metadata": {
        "id": "D93LO7MgejLs"
      }
    },
    {
      "cell_type": "markdown",
      "source": [
        "모델 설정하기\n",
        "\n",
        "- max_depth : 나무의 깊이, 노드를 최대 몇 번까지 분할할지 정한다."
      ],
      "metadata": {
        "id": "Xt7SOsRb0ebk"
      }
    },
    {
      "cell_type": "code",
      "source": [
        "from sklearn import tree\n",
        "clf = tree.DecisionTreeClassifier(random_state = 1234,  # 난수 고정\n",
        "                                  max_depth = 3)"
      ],
      "metadata": {
        "id": "6NaX0wqwehjS"
      },
      "execution_count": 16,
      "outputs": []
    },
    {
      "cell_type": "code",
      "source": [
        "# 모델 만들기\n",
        "# fit()에는 X가 대문자이다.\n",
        "train_x = df_train.drop(columns = 'income') # 예측 변수 추출\n",
        "train_y = df_train['income'] # 타겟 변수 추출\n",
        "\n",
        "model = clf.fit(X = train_x, y = train_y) # 모델"
      ],
      "metadata": {
        "id": "V5LcuMaB15DM"
      },
      "execution_count": 17,
      "outputs": []
    },
    {
      "cell_type": "code",
      "source": [
        "import matplotlib.pyplot as plt\n",
        "plt.rcParams.update({'figure.figsize' : [12, 8], #그래프 크기\n",
        "                     'figure.dpi' : '100'}) #해상도 설정\n",
        "\n",
        "tree.plot_tree(model); #그래프 (;)를 입력해 메세지를 제외"
      ],
      "metadata": {
        "colab": {
          "base_uri": "https://localhost:8080/",
          "height": 653
        },
        "id": "gCeQK9UT2X_r",
        "outputId": "7f0074a4-1981-443b-e620-2793687002b0"
      },
      "execution_count": 18,
      "outputs": [
        {
          "output_type": "display_data",
          "data": {
            "text/plain": [
              "<Figure size 1200x800 with 1 Axes>"
            ],
            "image/png": "[encoded data removed]"
          },
          "metadata": {}
        }
      ]
    },
    {
      "cell_type": "code",
      "source": [
        "#tree.plot_tree에 파라미터를 추가해 그래프를 수정\n",
        "tree.plot_tree(model,\n",
        "               feature_names = train_x.columns, # 예측 변수명\n",
        "               class_names = [\"high\", \"low\"], # 타겟 변수 클래스, 알파벳순\n",
        "               proportion = True, # 비율 표기\n",
        "               filled = True, #색칠\n",
        "               rounded = True, #둥근테두리\n",
        "               impurity = False, #불순도 표시\n",
        "               label = 'root', # label 표기 위치\n",
        "               fontsize = 10); # 글자 크기"
      ],
      "metadata": {
        "colab": {
          "base_uri": "https://localhost:8080/",
          "height": 653
        },
        "id": "54t21m_A20kQ",
        "outputId": "4e22be2c-a81f-441e-e816-721782cc82a5"
      },
      "execution_count": 19,
      "outputs": [
        {
          "output_type": "display_data",
          "data": {
            "text/plain": [
              "<Figure size 1200x800 with 1 Axes>"
            ],
            "image/png": "[encoded data removed]"
          },
          "metadata": {}
        }
      ]
    },
    {
      "cell_type": "markdown",
      "source": [
        "[첫 번째 노드 해석]\n",
        "\n",
        "맨위부터 아래 순으로 >>\n",
        "\n",
        "분리 기준, 노드에 해당하는 관측치 비율, 타깃 변수의 클래스별 비율, 우세한 클래스(0.5기준)\n",
        "\n",
        "타깃 변수의 클래스별 비율의 경우 high 다음 low의 순이기 때문에 high가 0.239%이다.\n",
        "\n",
        "Yes -> 왼쪽의 노드로 가고, No -> 오른쪽 노드로 간다.\n",
        "\n",
        "marital_status_Married-civ-spouse는 원핫 인코딩(0, 1)이므로 <=0.5 조건을 충족하는 0인경우. 즉 비혼인 경우 왼쪽 노드로 내려간다."
      ],
      "metadata": {
        "id": "Ocec0TvR3g3q"
      }
    },
    {
      "cell_type": "markdown",
      "source": [
        "[두 번째 노드 해석]\n",
        "\n",
        "<왼쪽>\n",
        "\n",
        "첫 번째 줄 : 비혼자들로 구성. 다음으로 노드를 나누는 기준 'capital_gain'\n",
        "\n",
        "두 번째 줄 : 전체 중 비혼자의 비율\n",
        "\n",
        "세 번째 줄 : income의 low가 6.4%, high가 93.6%\n",
        "\n",
        "네 번째 줄 : Low\n",
        "\n",
        "<오른쪽>\n",
        "\n",
        "첫 번째 줄 : 기혼자들로 구성. 다음으로 노드를 나누는 기준 'education_num'\n",
        "\n",
        "두 번째 줄 : 전체 중 비혼자의 비율\n",
        "\n",
        "세 번째 줄 : income의 low가 44.7%, high가 55.3%\n",
        "\n",
        "네 번째 줄 : Low"
      ],
      "metadata": {
        "id": "ZKm_aLgfLsK1"
      }
    },
    {
      "cell_type": "markdown",
      "source": [
        "노드의 색농도는 비율이 높을수록 농도가 진하다."
      ],
      "metadata": {
        "id": "okxMtZsENyvw"
      }
    },
    {
      "cell_type": "markdown",
      "source": [
        "---"
      ],
      "metadata": {
        "id": "V1lbKGLNN6ho"
      }
    },
    {
      "cell_type": "markdown",
      "source": [
        "### 모델을 이용해 예측 model.predict()"
      ],
      "metadata": {
        "id": "agN5UsFkN7cP"
      }
    },
    {
      "cell_type": "code",
      "source": [
        "test_x = df_test.drop(columns = 'income') # 예측 변수 추출\n",
        "test_y = df_test['income'] # 타겟 변수 추출"
      ],
      "metadata": {
        "id": "xEhPk2JILNUE"
      },
      "execution_count": 20,
      "outputs": []
    },
    {
      "cell_type": "code",
      "source": [
        "# 예측값 구하기\n",
        "df_test['pred'] = model.predict(test_x)\n",
        "df_test # pred라는 변수에 모델 예측값 저장"
      ],
      "metadata": {
        "id": "ceMjYVv73fya",
        "colab": {
          "base_uri": "https://localhost:8080/",
          "height": 461
        },
        "outputId": "66696575-fd76-4ad2-fbab-8c45ce0d4b88"
      },
      "execution_count": 21,
      "outputs": [
        {
          "output_type": "execute_result",
          "data": {
            "text/plain": [
              "       age  education_num  capital_gain  capital_loss  hours_per_week  \\\n",
              "11712   58             10             0             0              60   \n",
              "24768   39             10             0             0              40   \n",
              "26758   31              4             0             0              20   \n",
              "14295   23              9             0             0              40   \n",
              "3683    24              9             0             0              40   \n",
              "...    ...            ...           ...           ...             ...   \n",
              "11985   24             13             0             0              30   \n",
              "48445   35             13         10520             0              45   \n",
              "19639   41              9             0             0              40   \n",
              "21606   29              4             0             0              30   \n",
              "3822    31             13             0             0              40   \n",
              "\n",
              "       workclass_?  workclass_Federal-gov  workclass_Local-gov  \\\n",
              "11712            0                      0                    0   \n",
              "24768            0                      0                    0   \n",
              "26758            0                      0                    0   \n",
              "14295            0                      0                    0   \n",
              "3683             0                      0                    0   \n",
              "...            ...                    ...                  ...   \n",
              "11985            0                      0                    0   \n",
              "48445            0                      0                    0   \n",
              "19639            0                      0                    0   \n",
              "21606            0                      0                    0   \n",
              "3822             0                      0                    0   \n",
              "\n",
              "       workclass_Never-worked  workclass_Private  ...  \\\n",
              "11712                       0                  0  ...   \n",
              "24768                       0                  1  ...   \n",
              "26758                       0                  1  ...   \n",
              "14295                       0                  1  ...   \n",
              "3683                        0                  1  ...   \n",
              "...                       ...                ...  ...   \n",
              "11985                       0                  1  ...   \n",
              "48445                       0                  1  ...   \n",
              "19639                       0                  1  ...   \n",
              "21606                       0                  1  ...   \n",
              "3822                        0                  1  ...   \n",
              "\n",
              "       native_country_Scotland  native_country_South  native_country_Taiwan  \\\n",
              "11712                        0                     0                      0   \n",
              "24768                        0                     0                      0   \n",
              "26758                        0                     0                      0   \n",
              "14295                        0                     0                      0   \n",
              "3683                         0                     0                      0   \n",
              "...                        ...                   ...                    ...   \n",
              "11985                        0                     0                      0   \n",
              "48445                        0                     0                      0   \n",
              "19639                        0                     0                      0   \n",
              "21606                        0                     0                      0   \n",
              "3822                         0                     0                      0   \n",
              "\n",
              "       native_country_Thailand  native_country_Trinadad&Tobago  \\\n",
              "11712                        0                               0   \n",
              "24768                        0                               0   \n",
              "26758                        0                               0   \n",
              "14295                        0                               0   \n",
              "3683                         0                               0   \n",
              "...                        ...                             ...   \n",
              "11985                        0                               0   \n",
              "48445                        0                               0   \n",
              "19639                        0                               0   \n",
              "21606                        0                               0   \n",
              "3822                         0                               0   \n",
              "\n",
              "       native_country_United-States  native_country_Vietnam  \\\n",
              "11712                             1                       0   \n",
              "24768                             0                       0   \n",
              "26758                             1                       0   \n",
              "14295                             1                       0   \n",
              "3683                              1                       0   \n",
              "...                             ...                     ...   \n",
              "11985                             1                       0   \n",
              "48445                             1                       0   \n",
              "19639                             1                       0   \n",
              "21606                             0                       0   \n",
              "3822                              1                       0   \n",
              "\n",
              "       native_country_Yugoslavia  income  pred  \n",
              "11712                          0     low   low  \n",
              "24768                          0     low   low  \n",
              "26758                          0     low   low  \n",
              "14295                          0     low   low  \n",
              "3683                           0     low   low  \n",
              "...                          ...     ...   ...  \n",
              "11985                          0     low   low  \n",
              "48445                          0    high  high  \n",
              "19639                          0    high   low  \n",
              "21606                          0     low   low  \n",
              "3822                           0     low   low  \n",
              "\n",
              "[14653 rows x 109 columns]"
            ],
            "text/html": [
              "\n",
              "  <div id=\"df-8df82623-877d-4392-9bfd-0ac7ec31a1cf\" class=\"colab-df-container\">\n",
              "    <div>\n",
              "<style scoped>\n",
              "    .dataframe tbody tr th:only-of-type {\n",
              "        vertical-align: middle;\n",
              "    }\n",
              "\n",
              "    .dataframe tbody tr th {\n",
              "        vertical-align: top;\n",
              "    }\n",
              "\n",
              "    .dataframe thead th {\n",
              "        text-align: right;\n",
              "    }\n",
              "</style>\n",
              "<table border=\"1\" class=\"dataframe\">\n",
              "  <thead>\n",
              "    <tr style=\"text-align: right;\">\n",
              "      <th></th>\n",
              "      <th>age</th>\n",
              "      <th>education_num</th>\n",
              "      <th>capital_gain</th>\n",
              "      <th>capital_loss</th>\n",
              "      <th>hours_per_week</th>\n",
              "      <th>workclass_?</th>\n",
              "      <th>workclass_Federal-gov</th>\n",
              "      <th>workclass_Local-gov</th>\n",
              "      <th>workclass_Never-worked</th>\n",
              "      <th>workclass_Private</th>\n",
              "      <th>...</th>\n",
              "      <th>native_country_Scotland</th>\n",
              "      <th>native_country_South</th>\n",
              "      <th>native_country_Taiwan</th>\n",
              "      <th>native_country_Thailand</th>\n",
              "      <th>native_country_Trinadad&amp;Tobago</th>\n",
              "      <th>native_country_United-States</th>\n",
              "      <th>native_country_Vietnam</th>\n",
              "      <th>native_country_Yugoslavia</th>\n",
              "      <th>income</th>\n",
              "      <th>pred</th>\n",
              "    </tr>\n",
              "  </thead>\n",
              "  <tbody>\n",
              "    <tr>\n",
              "      <th>11712</th>\n",
              "      <td>58</td>\n",
              "      <td>10</td>\n",
              "      <td>0</td>\n",
              "      <td>0</td>\n",
              "      <td>60</td>\n",
              "      <td>0</td>\n",
              "      <td>0</td>\n",
              "      <td>0</td>\n",
              "      <td>0</td>\n",
              "      <td>0</td>\n",
              "      <td>...</td>\n",
              "      <td>0</td>\n",
              "      <td>0</td>\n",
              "      <td>0</td>\n",
              "      <td>0</td>\n",
              "      <td>0</td>\n",
              "      <td>1</td>\n",
              "      <td>0</td>\n",
              "      <td>0</td>\n",
              "      <td>low</td>\n",
              "      <td>low</td>\n",
              "    </tr>\n",
              "    <tr>\n",
              "      <th>24768</th>\n",
              "      <td>39</td>\n",
              "      <td>10</td>\n",
              "      <td>0</td>\n",
              "      <td>0</td>\n",
              "      <td>40</td>\n",
              "      <td>0</td>\n",
              "      <td>0</td>\n",
              "      <td>0</td>\n",
              "      <td>0</td>\n",
              "      <td>1</td>\n",
              "      <td>...</td>\n",
              "      <td>0</td>\n",
              "      <td>0</td>\n",
              "      <td>0</td>\n",
              "      <td>0</td>\n",
              "      <td>0</td>\n",
              "      <td>0</td>\n",
              "      <td>0</td>\n",
              "      <td>0</td>\n",
              "      <td>low</td>\n",
              "      <td>low</td>\n",
              "    </tr>\n",
              "    <tr>\n",
              "      <th>26758</th>\n",
              "      <td>31</td>\n",
              "      <td>4</td>\n",
              "      <td>0</td>\n",
              "      <td>0</td>\n",
              "      <td>20</td>\n",
              "      <td>0</td>\n",
              "      <td>0</td>\n",
              "      <td>0</td>\n",
              "      <td>0</td>\n",
              "      <td>1</td>\n",
              "      <td>...</td>\n",
              "      <td>0</td>\n",
              "      <td>0</td>\n",
              "      <td>0</td>\n",
              "      <td>0</td>\n",
              "      <td>0</td>\n",
              "      <td>1</td>\n",
              "      <td>0</td>\n",
              "      <td>0</td>\n",
              "      <td>low</td>\n",
              "      <td>low</td>\n",
              "    </tr>\n",
              "    <tr>\n",
              "      <th>14295</th>\n",
              "      <td>23</td>\n",
              "      <td>9</td>\n",
              "      <td>0</td>\n",
              "      <td>0</td>\n",
              "      <td>40</td>\n",
              "      <td>0</td>\n",
              "      <td>0</td>\n",
              "      <td>0</td>\n",
              "      <td>0</td>\n",
              "      <td>1</td>\n",
              "      <td>...</td>\n",
              "      <td>0</td>\n",
              "      <td>0</td>\n",
              "      <td>0</td>\n",
              "      <td>0</td>\n",
              "      <td>0</td>\n",
              "      <td>1</td>\n",
              "      <td>0</td>\n",
              "      <td>0</td>\n",
              "      <td>low</td>\n",
              "      <td>low</td>\n",
              "    </tr>\n",
              "    <tr>\n",
              "      <th>3683</th>\n",
              "      <td>24</td>\n",
              "      <td>9</td>\n",
              "      <td>0</td>\n",
              "      <td>0</td>\n",
              "      <td>40</td>\n",
              "      <td>0</td>\n",
              "      <td>0</td>\n",
              "      <td>0</td>\n",
              "      <td>0</td>\n",
              "      <td>1</td>\n",
              "      <td>...</td>\n",
              "      <td>0</td>\n",
              "      <td>0</td>\n",
              "      <td>0</td>\n",
              "      <td>0</td>\n",
              "      <td>0</td>\n",
              "      <td>1</td>\n",
              "      <td>0</td>\n",
              "      <td>0</td>\n",
              "      <td>low</td>\n",
              "      <td>low</td>\n",
              "    </tr>\n",
              "    <tr>\n",
              "      <th>...</th>\n",
              "      <td>...</td>\n",
              "      <td>...</td>\n",
              "      <td>...</td>\n",
              "      <td>...</td>\n",
              "      <td>...</td>\n",
              "      <td>...</td>\n",
              "      <td>...</td>\n",
              "      <td>...</td>\n",
              "      <td>...</td>\n",
              "      <td>...</td>\n",
              "      <td>...</td>\n",
              "      <td>...</td>\n",
              "      <td>...</td>\n",
              "      <td>...</td>\n",
              "      <td>...</td>\n",
              "      <td>...</td>\n",
              "      <td>...</td>\n",
              "      <td>...</td>\n",
              "      <td>...</td>\n",
              "      <td>...</td>\n",
              "      <td>...</td>\n",
              "    </tr>\n",
              "    <tr>\n",
              "      <th>11985</th>\n",
              "      <td>24</td>\n",
              "      <td>13</td>\n",
              "      <td>0</td>\n",
              "      <td>0</td>\n",
              "      <td>30</td>\n",
              "      <td>0</td>\n",
              "      <td>0</td>\n",
              "      <td>0</td>\n",
              "      <td>0</td>\n",
              "      <td>1</td>\n",
              "      <td>...</td>\n",
              "      <td>0</td>\n",
              "      <td>0</td>\n",
              "      <td>0</td>\n",
              "      <td>0</td>\n",
              "      <td>0</td>\n",
              "      <td>1</td>\n",
              "      <td>0</td>\n",
              "      <td>0</td>\n",
              "      <td>low</td>\n",
              "      <td>low</td>\n",
              "    </tr>\n",
              "    <tr>\n",
              "      <th>48445</th>\n",
              "      <td>35</td>\n",
              "      <td>13</td>\n",
              "      <td>10520</td>\n",
              "      <td>0</td>\n",
              "      <td>45</td>\n",
              "      <td>0</td>\n",
              "      <td>0</td>\n",
              "      <td>0</td>\n",
              "      <td>0</td>\n",
              "      <td>1</td>\n",
              "      <td>...</td>\n",
              "      <td>0</td>\n",
              "      <td>0</td>\n",
              "      <td>0</td>\n",
              "      <td>0</td>\n",
              "      <td>0</td>\n",
              "      <td>1</td>\n",
              "      <td>0</td>\n",
              "      <td>0</td>\n",
              "      <td>high</td>\n",
              "      <td>high</td>\n",
              "    </tr>\n",
              "    <tr>\n",
              "      <th>19639</th>\n",
              "      <td>41</td>\n",
              "      <td>9</td>\n",
              "      <td>0</td>\n",
              "      <td>0</td>\n",
              "      <td>40</td>\n",
              "      <td>0</td>\n",
              "      <td>0</td>\n",
              "      <td>0</td>\n",
              "      <td>0</td>\n",
              "      <td>1</td>\n",
              "      <td>...</td>\n",
              "      <td>0</td>\n",
              "      <td>0</td>\n",
              "      <td>0</td>\n",
              "      <td>0</td>\n",
              "      <td>0</td>\n",
              "      <td>1</td>\n",
              "      <td>0</td>\n",
              "      <td>0</td>\n",
              "      <td>high</td>\n",
              "      <td>low</td>\n",
              "    </tr>\n",
              "    <tr>\n",
              "      <th>21606</th>\n",
              "      <td>29</td>\n",
              "      <td>4</td>\n",
              "      <td>0</td>\n",
              "      <td>0</td>\n",
              "      <td>30</td>\n",
              "      <td>0</td>\n",
              "      <td>0</td>\n",
              "      <td>0</td>\n",
              "      <td>0</td>\n",
              "      <td>1</td>\n",
              "      <td>...</td>\n",
              "      <td>0</td>\n",
              "      <td>0</td>\n",
              "      <td>0</td>\n",
              "      <td>0</td>\n",
              "      <td>0</td>\n",
              "      <td>0</td>\n",
              "      <td>0</td>\n",
              "      <td>0</td>\n",
              "      <td>low</td>\n",
              "      <td>low</td>\n",
              "    </tr>\n",
              "    <tr>\n",
              "      <th>3822</th>\n",
              "      <td>31</td>\n",
              "      <td>13</td>\n",
              "      <td>0</td>\n",
              "      <td>0</td>\n",
              "      <td>40</td>\n",
              "      <td>0</td>\n",
              "      <td>0</td>\n",
              "      <td>0</td>\n",
              "      <td>0</td>\n",
              "      <td>1</td>\n",
              "      <td>...</td>\n",
              "      <td>0</td>\n",
              "      <td>0</td>\n",
              "      <td>0</td>\n",
              "      <td>0</td>\n",
              "      <td>0</td>\n",
              "      <td>1</td>\n",
              "      <td>0</td>\n",
              "      <td>0</td>\n",
              "      <td>low</td>\n",
              "      <td>low</td>\n",
              "    </tr>\n",
              "  </tbody>\n",
              "</table>\n",
              "<p>14653 rows × 109 columns</p>\n",
              "</div>\n",
              "    <div class=\"colab-df-buttons\">\n",
              "\n",
              "  <div class=\"colab-df-container\">\n",
              "    <button class=\"colab-df-convert\" onclick=\"convertToInteractive('df-8df82623-877d-4392-9bfd-0ac7ec31a1cf')\"\n",
              "            title=\"Convert this dataframe to an interactive table.\"\n",
              "            style=\"display:none;\">\n",
              "\n",
              "  <svg xmlns=\"http://www.w3.org/2000/svg\" height=\"24px\" viewBox=\"0 -960 960 960\">\n",
              "    <path d=\"M120-120v-720h720v720H120Zm60-500h600v-160H180v160Zm220 220h160v-160H400v160Zm0 220h160v-160H400v160ZM180-400h160v-160H180v160Zm440 0h160v-160H620v160ZM180-180h160v-160H180v160Zm440 0h160v-160H620v160Z\"/>\n",
              "  </svg>\n",
              "    </button>\n",
              "\n",
              "  <style>\n",
              "    .colab-df-container {\n",
              "      display:flex;\n",
              "      gap: 12px;\n",
              "    }\n",
              "\n",
              "    .colab-df-convert {\n",
              "      background-color: #E8F0FE;\n",
              "      border: none;\n",
              "      border-radius: 50%;\n",
              "      cursor: pointer;\n",
              "      display: none;\n",
              "      fill: #1967D2;\n",
              "      height: 32px;\n",
              "      padding: 0 0 0 0;\n",
              "      width: 32px;\n",
              "    }\n",
              "\n",
              "    .colab-df-convert:hover {\n",
              "      background-color: #E2EBFA;\n",
              "      box-shadow: 0px 1px 2px rgba(60, 64, 67, 0.3), 0px 1px 3px 1px rgba(60, 64, 67, 0.15);\n",
              "      fill: #174EA6;\n",
              "    }\n",
              "\n",
              "    .colab-df-buttons div {\n",
              "      margin-bottom: 4px;\n",
              "    }\n",
              "\n",
              "    [theme=dark] .colab-df-convert {\n",
              "      background-color: #3B4455;\n",
              "      fill: #D2E3FC;\n",
              "    }\n",
              "\n",
              "    [theme=dark] .colab-df-convert:hover {\n",
              "      background-color: #434B5C;\n",
              "      box-shadow: 0px 1px 3px 1px rgba(0, 0, 0, 0.15);\n",
              "      filter: drop-shadow(0px 1px 2px rgba(0, 0, 0, 0.3));\n",
              "      fill: #FFFFFF;\n",
              "    }\n",
              "  </style>\n",
              "\n",
              "    <script>\n",
              "      const buttonEl =\n",
              "        document.querySelector('#df-8df82623-877d-4392-9bfd-0ac7ec31a1cf button.colab-df-convert');\n",
              "      buttonEl.style.display =\n",
              "        google.colab.kernel.accessAllowed ? 'block' : 'none';\n",
              "\n",
              "      async function convertToInteractive(key) {\n",
              "        const element = document.querySelector('#df-8df82623-877d-4392-9bfd-0ac7ec31a1cf');\n",
              "        const dataTable =\n",
              "          await google.colab.kernel.invokeFunction('convertToInteractive',\n",
              "                                                    [key], {});\n",
              "        if (!dataTable) return;\n",
              "\n",
              "        const docLinkHtml = 'Like what you see? Visit the ' +\n",
              "          '<a target=\"_blank\" href=https://colab.research.google.com/notebooks/data_table.ipynb>data table notebook</a>'\n",
              "          + ' to learn more about interactive tables.';\n",
              "        element.innerHTML = '';\n",
              "        dataTable['output_type'] = 'display_data';\n",
              "        await google.colab.output.renderOutput(dataTable, element);\n",
              "        const docLink = document.createElement('div');\n",
              "        docLink.innerHTML = docLinkHtml;\n",
              "        element.appendChild(docLink);\n",
              "      }\n",
              "    </script>\n",
              "  </div>\n",
              "\n",
              "\n",
              "<div id=\"df-08d8c7ad-2282-49fe-956f-b88e38f7b147\">\n",
              "  <button class=\"colab-df-quickchart\" onclick=\"quickchart('df-08d8c7ad-2282-49fe-956f-b88e38f7b147')\"\n",
              "            title=\"Suggest charts.\"\n",
              "            style=\"display:none;\">\n",
              "\n",
              "<svg xmlns=\"http://www.w3.org/2000/svg\" height=\"24px\"viewBox=\"0 0 24 24\"\n",
              "     width=\"24px\">\n",
              "    <g>\n",
              "        <path d=\"M19 3H5c-1.1 0-2 .9-2 2v14c0 1.1.9 2 2 2h14c1.1 0 2-.9 2-2V5c0-1.1-.9-2-2-2zM9 17H7v-7h2v7zm4 0h-2V7h2v10zm4 0h-2v-4h2v4z\"/>\n",
              "    </g>\n",
              "</svg>\n",
              "  </button>\n",
              "\n",
              "<style>\n",
              "  .colab-df-quickchart {\n",
              "      --bg-color: #E8F0FE;\n",
              "      --fill-color: #1967D2;\n",
              "      --hover-bg-color: #E2EBFA;\n",
              "      --hover-fill-color: #174EA6;\n",
              "      --disabled-fill-color: #AAA;\n",
              "      --disabled-bg-color: #DDD;\n",
              "  }\n",
              "\n",
              "  [theme=dark] .colab-df-quickchart {\n",
              "      --bg-color: #3B4455;\n",
              "      --fill-color: #D2E3FC;\n",
              "      --hover-bg-color: #434B5C;\n",
              "      --hover-fill-color: #FFFFFF;\n",
              "      --disabled-bg-color: #3B4455;\n",
              "      --disabled-fill-color: #666;\n",
              "  }\n",
              "\n",
              "  .colab-df-quickchart {\n",
              "    background-color: var(--bg-color);\n",
              "    border: none;\n",
              "    border-radius: 50%;\n",
              "    cursor: pointer;\n",
              "    display: none;\n",
              "    fill: var(--fill-color);\n",
              "    height: 32px;\n",
              "    padding: 0;\n",
              "    width: 32px;\n",
              "  }\n",
              "\n",
              "  .colab-df-quickchart:hover {\n",
              "    background-color: var(--hover-bg-color);\n",
              "    box-shadow: 0 1px 2px rgba(60, 64, 67, 0.3), 0 1px 3px 1px rgba(60, 64, 67, 0.15);\n",
              "    fill: var(--button-hover-fill-color);\n",
              "  }\n",
              "\n",
              "  .colab-df-quickchart-complete:disabled,\n",
              "  .colab-df-quickchart-complete:disabled:hover {\n",
              "    background-color: var(--disabled-bg-color);\n",
              "    fill: var(--disabled-fill-color);\n",
              "    box-shadow: none;\n",
              "  }\n",
              "\n",
              "  .colab-df-spinner {\n",
              "    border: 2px solid var(--fill-color);\n",
              "    border-color: transparent;\n",
              "    border-bottom-color: var(--fill-color);\n",
              "    animation:\n",
              "      spin 1s steps(1) infinite;\n",
              "  }\n",
              "\n",
              "  @keyframes spin {\n",
              "    0% {\n",
              "      border-color: transparent;\n",
              "      border-bottom-color: var(--fill-color);\n",
              "      border-left-color: var(--fill-color);\n",
              "    }\n",
              "    20% {\n",
              "      border-color: transparent;\n",
              "      border-left-color: var(--fill-color);\n",
              "      border-top-color: var(--fill-color);\n",
              "    }\n",
              "    30% {\n",
              "      border-color: transparent;\n",
              "      border-left-color: var(--fill-color);\n",
              "      border-top-color: var(--fill-color);\n",
              "      border-right-color: var(--fill-color);\n",
              "    }\n",
              "    40% {\n",
              "      border-color: transparent;\n",
              "      border-right-color: var(--fill-color);\n",
              "      border-top-color: var(--fill-color);\n",
              "    }\n",
              "    60% {\n",
              "      border-color: transparent;\n",
              "      border-right-color: var(--fill-color);\n",
              "    }\n",
              "    80% {\n",
              "      border-color: transparent;\n",
              "      border-right-color: var(--fill-color);\n",
              "      border-bottom-color: var(--fill-color);\n",
              "    }\n",
              "    90% {\n",
              "      border-color: transparent;\n",
              "      border-bottom-color: var(--fill-color);\n",
              "    }\n",
              "  }\n",
              "</style>\n",
              "\n",
              "  <script>\n",
              "    async function quickchart(key) {\n",
              "      const quickchartButtonEl =\n",
              "        document.querySelector('#' + key + ' button');\n",
              "      quickchartButtonEl.disabled = true;  // To prevent multiple clicks.\n",
              "      quickchartButtonEl.classList.add('colab-df-spinner');\n",
              "      try {\n",
              "        const charts = await google.colab.kernel.invokeFunction(\n",
              "            'suggestCharts', [key], {});\n",
              "      } catch (error) {\n",
              "        console.error('Error during call to suggestCharts:', error);\n",
              "      }\n",
              "      quickchartButtonEl.classList.remove('colab-df-spinner');\n",
              "      quickchartButtonEl.classList.add('colab-df-quickchart-complete');\n",
              "    }\n",
              "    (() => {\n",
              "      let quickchartButtonEl =\n",
              "        document.querySelector('#df-08d8c7ad-2282-49fe-956f-b88e38f7b147 button');\n",
              "      quickchartButtonEl.style.display =\n",
              "        google.colab.kernel.accessAllowed ? 'block' : 'none';\n",
              "    })();\n",
              "  </script>\n",
              "</div>\n",
              "    </div>\n",
              "  </div>\n"
            ]
          },
          "metadata": {},
          "execution_count": 21
        }
      ]
    },
    {
      "cell_type": "markdown",
      "source": [
        "###성능 평가"
      ],
      "metadata": {
        "id": "DavKy7x1Ov3b"
      }
    },
    {
      "cell_type": "markdown",
      "source": [
        "confusion matrix 만들기(혼동 행렬)\n",
        "\n",
        "sklearn.metrics의 confusion_matrix()를 이용해 만든다.\n",
        "\n",
        "안에 들어가는 파라미터 : y_true(타겟 변수), y_pred(예측 변수), labels(클래스 배치 순서)"
      ],
      "metadata": {
        "id": "dCYGz1OPO4px"
      }
    },
    {
      "cell_type": "code",
      "source": [
        "from sklearn.metrics import confusion_matrix\n",
        "conf_mat = confusion_matrix(y_true = df_test['income'], #실제값\n",
        "                            y_pred = df_test['pred'], #예측값\n",
        "                            labels = ['high', 'low']) #클래스 배치 순서\n",
        "conf_mat"
      ],
      "metadata": {
        "colab": {
          "base_uri": "https://localhost:8080/"
        },
        "id": "OQZbjU8yOw3n",
        "outputId": "12d6ea5f-4302-4a63-fab8-5844f026f075"
      },
      "execution_count": 22,
      "outputs": [
        {
          "output_type": "execute_result",
          "data": {
            "text/plain": [
              "array([[ 1801,  1705],\n",
              "       [  582, 10565]])"
            ]
          },
          "metadata": {},
          "execution_count": 22
        }
      ]
    },
    {
      "cell_type": "markdown",
      "source": [
        "sklearn.metrics의 ConfusionMatrixDisplay()를 이용해 컨퓨전 매트릭스로 히트맵을 만들기"
      ],
      "metadata": {
        "id": "EzpJvGbrPxjm"
      }
    },
    {
      "cell_type": "code",
      "source": [
        "plt.rcParams.update(plt.rcParamsDefault)\n",
        "\n",
        "from sklearn.metrics import ConfusionMatrixDisplay\n",
        "p = ConfusionMatrixDisplay(confusion_matrix = conf_mat, # 컨퓨전 매트릭스 적용\n",
        "                           display_labels = ('high', 'low')) # 타겟 변수 클래스명\n",
        "\n",
        "p.plot(cmap = 'Blues') # 컬러맵 적용\n",
        "plt.show()"
      ],
      "metadata": {
        "colab": {
          "base_uri": "https://localhost:8080/",
          "height": 449
        },
        "id": "vLuXhrH5P8OE",
        "outputId": "93b90bec-964c-4935-eccd-9b938c10e90d"
      },
      "execution_count": 23,
      "outputs": [
        {
          "output_type": "display_data",
          "data": {
            "text/plain": [
              "<Figure size 640x480 with 2 Axes>"
            ],
            "image/png": "[encoded data removed]"
          },
          "metadata": {}
        }
      ]
    },
    {
      "cell_type": "markdown",
      "source": [
        "confusion matrix의 행은 실제 빈도를 의미한다.\n",
        "\n",
        "첫 번째 행은 income이 실제로 high인 사람. 두 번째 행은 실제로 low인 사람을 의미\n",
        "\n",
        "- 첫 번째 열의 값\n",
        "\n",
        "모델이 2383명을 high로 예측했다.\n",
        "\n",
        "이 중 실제로 high : 1801 (정답), low : 582 (오답)\n",
        "\n",
        "- 두 번째 열의 값\n",
        "\n",
        "모델이 12270명을 low로 예측했다.\n",
        "\n",
        "이 중 실제로 high : 1705 (오답), low : 10565 (정답)\n",
        "\n"
      ],
      "metadata": {
        "id": "Q0xYWJkJRJoL"
      }
    },
    {
      "cell_type": "markdown",
      "source": [
        "<컨퓨전 매트릭스 셀>\n",
        "\n",
        "TP, FN\n",
        "\n",
        "FP, TN 으로 구성되어 있다. (income이 'high'라면 Positive, 'low'면 Negative <- 내가 설정한 클래스 기준)\n"
      ],
      "metadata": {
        "id": "g3v8HJaLVUZF"
      }
    },
    {
      "cell_type": "markdown",
      "source": [
        "#### 성능 평가 지표 구하기"
      ],
      "metadata": {
        "id": "ogPfCUjUVUfB"
      }
    },
    {
      "cell_type": "markdown",
      "source": [
        "#### 정확도 Accuracy\n",
        "\n",
        "conf_mat\n",
        "\n",
        "Accuracy = (TP + TN) / (TP + TN + FP + FN)\n",
        "\n",
        "정확도 = 실제 / 모든 셀"
      ],
      "metadata": {
        "id": "oJg--_3bYLRf"
      }
    },
    {
      "cell_type": "markdown",
      "source": [
        "또는 sklearn.metrics의 accuracy_score()을 이용해 구할 수 있다."
      ],
      "metadata": {
        "id": "3dDNYbsGYdt1"
      }
    },
    {
      "cell_type": "code",
      "source": [
        "import sklearn.metrics as metrics\n",
        "metrics.accuracy_score(y_true = df_test['income'], # 실제값\n",
        "                       y_pred = df_test['pred']) # 예측값"
      ],
      "metadata": {
        "colab": {
          "base_uri": "https://localhost:8080/"
        },
        "id": "7wtp7mENYk9X",
        "outputId": "9601e3de-eb79-41b0-ef52-ed412dad9dbc"
      },
      "execution_count": 24,
      "outputs": [
        {
          "output_type": "execute_result",
          "data": {
            "text/plain": [
              "0.8439227461953184"
            ]
          },
          "metadata": {},
          "execution_count": 24
        }
      ]
    },
    {
      "cell_type": "markdown",
      "source": [
        "#### 정밀도 Precision\n",
        "\n",
        "관심 클래스를 예측해서 맞춘 비율을 의미\n",
        "\n",
        "Precision = TP / (TP + FP)\n",
        "\n",
        "또는 metrics.precision_score()을 이용해 구할 수 있다."
      ],
      "metadata": {
        "id": "lIRYdCfUZU60"
      }
    },
    {
      "cell_type": "code",
      "source": [
        "metrics.precision_score(y_true = df_test['income'],\n",
        "                       y_pred = df_test['pred'],\n",
        "                        pos_label = 'high') # 관심 클래스"
      ],
      "metadata": {
        "colab": {
          "base_uri": "https://localhost:8080/"
        },
        "id": "bNnPQcjfZqy3",
        "outputId": "9ceb17f0-a565-400a-93df-99fd8619192f"
      },
      "execution_count": 25,
      "outputs": [
        {
          "output_type": "execute_result",
          "data": {
            "text/plain": [
              "0.7557700377675199"
            ]
          },
          "metadata": {},
          "execution_count": 25
        }
      ]
    },
    {
      "cell_type": "markdown",
      "source": [
        "####재현율 Recall\n",
        "\n",
        "실제 데이터에서 관심 클래스를 찾아낸 비율을 의미\n",
        "\n",
        "Recall = TP / (TP + FN)\n",
        "\n",
        "또는 metrics.recall_score()을 이용해 구할 수 있다."
      ],
      "metadata": {
        "id": "f_KBa-CnZWI7"
      }
    },
    {
      "cell_type": "code",
      "source": [
        "metrics.recall_score(y_true = df_test['income'],\n",
        "                       y_pred = df_test['pred'],\n",
        "                        pos_label = 'high')"
      ],
      "metadata": {
        "colab": {
          "base_uri": "https://localhost:8080/"
        },
        "id": "-hnwHkNAZq2X",
        "outputId": "f7efce50-a967-4ba9-91c5-73e7051bdfa8"
      },
      "execution_count": 26,
      "outputs": [
        {
          "output_type": "execute_result",
          "data": {
            "text/plain": [
              "0.5136908157444381"
            ]
          },
          "metadata": {},
          "execution_count": 26
        }
      ]
    },
    {
      "cell_type": "markdown",
      "source": [
        "#### F1 score\n",
        "\n",
        "recall 과 precision의 조화평균으로 성능이 높을수록 1에 가까운 값이 된다.\n",
        "\n",
        "metrics.f1_score()"
      ],
      "metadata": {
        "id": "wt6WGiuIZWK-"
      }
    },
    {
      "cell_type": "code",
      "source": [
        "metrics.f1_score(y_true = df_test['income'],\n",
        "                       y_pred = df_test['pred'],\n",
        "                        pos_label = 'high')"
      ],
      "metadata": {
        "colab": {
          "base_uri": "https://localhost:8080/"
        },
        "id": "LVjfz5sAZ7Pl",
        "outputId": "f9c32492-30d6-4ba4-f57a-e79f1cf9f3fe"
      },
      "execution_count": 27,
      "outputs": [
        {
          "output_type": "execute_result",
          "data": {
            "text/plain": [
              "0.6116488368143997"
            ]
          },
          "metadata": {},
          "execution_count": 27
        }
      ]
    },
    {
      "cell_type": "markdown",
      "source": [
        "[정리]\n",
        "\n",
        "precision : 관심 클래스가 분명할 때\n",
        "\n",
        "recall : 관심 클래스를 최대한 많이 찾아내야 할 때\n",
        "\n",
        "F1 score : recall과 precision이 모두 중요할 때"
      ],
      "metadata": {
        "id": "X9crJVzha0qv"
      }
    }
  ]
}