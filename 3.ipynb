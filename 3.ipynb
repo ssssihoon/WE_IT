{
  "nbformat": 4,
  "nbformat_minor": 0,
  "metadata": {
    "colab": {
      "provenance": [],
      "authorship_tag": "ABX9TyMUybYujho1kh2RHuM1JjZP",
      "include_colab_link": true
    },
    "kernelspec": {
      "name": "python3",
      "display_name": "Python 3"
    },
    "language_info": {
      "name": "python"
    }
  },
  "cells": [
    {
      "cell_type": "markdown",
      "metadata": {
        "id": "view-in-github",
        "colab_type": "text"
      },
      "source": [
        "<a href=\"https://colab.research.google.com/github/ssssihoon/WE_IT/blob/main/3.ipynb\" target=\"_parent\"><img src=\"https://colab.research.google.com/assets/colab-badge.svg\" alt=\"Open In Colab\"/></a>"
      ]
    },
    {
      "cell_type": "markdown",
      "source": [
        "# 변수명 정하기 규칙\n",
        "\n",
        "변수명을 정할 때 의미를 담아 이름을 정한다.\n",
        "\n",
        "반드시 문자로 시작해야 한다.\n",
        "\n",
        "영문을 권장\n"
      ],
      "metadata": {
        "id": "aeioa44JmDaI"
      }
    },
    {
      "cell_type": "markdown",
      "source": [
        "## 패키지 이해하기"
      ],
      "metadata": {
        "id": "bl9BjKMupJyK"
      }
    },
    {
      "cell_type": "markdown",
      "source": [
        "패키지는 함수의 꾸러미라고 비유할 수 있다.\n",
        "\n",
        "ex:) seaborn 내의 scatterplot() 등"
      ],
      "metadata": {
        "id": "sskqh4k-pVBM"
      }
    },
    {
      "cell_type": "code",
      "source": [
        "import seaborn # 그래프를 만들 때 사용하는 seaborn패키지 로드"
      ],
      "metadata": {
        "id": "-lZUcsDqpNCR"
      },
      "execution_count": 27,
      "outputs": []
    },
    {
      "cell_type": "markdown",
      "source": [
        "패키지 함수 사용하기"
      ],
      "metadata": {
        "id": "muRpobn7qXqX"
      }
    },
    {
      "cell_type": "code",
      "source": [],
      "metadata": {
        "id": "TEa7NNDoqKaq"
      },
      "execution_count": null,
      "outputs": []
    },
    {
      "cell_type": "markdown",
      "source": [],
      "metadata": {
        "id": "EGpCPPRLi34E"
      }
    }
  ]
}